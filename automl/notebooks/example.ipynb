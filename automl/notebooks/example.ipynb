{
 "cells": [
  {
   "cell_type": "code",
   "execution_count": 33,
   "metadata": {},
   "outputs": [
    {
     "name": "stdout",
     "output_type": "stream",
     "text": [
      "/Users/siddh/Desktop/SID/projects/AutoMLite/automl\n"
     ]
    }
   ],
   "source": [
    "%cd /Users/siddh/Desktop/SID/Projects/AutoMLite/automl"
   ]
  },
  {
   "cell_type": "code",
   "execution_count": 34,
   "metadata": {},
   "outputs": [],
   "source": [
    "import pandas as pd\n",
    "from src.preprocessing.preprocessor import DataPreprocessor\n",
    "from src.feature_engineering.feature_engineer import FeatureEngineer\n",
    "from src.model_selection.model_registry import ModelWrapper\n",
    "from src.evaluation.reporting import report_performance, plot_confusion_matrix\n",
    "from src.evaluation.shap_explainer import explain_model\n",
    "from src.optimization.optuna_optimizer import optimize_model\n",
    "import numpy as np\n",
    "from sklearn.model_selection import cross_val_score\n",
    "from sklearn.linear_model import LogisticRegression\n",
    "from sklearn.ensemble import RandomForestClassifier\n",
    "from sklearn.svm import SVC\n",
    "from sklearn.neural_network import MLPClassifier"
   ]
  },
  {
   "cell_type": "code",
   "execution_count": 35,
   "metadata": {},
   "outputs": [],
   "source": [
    "df = pd.read_csv('your_data.csv')\n",
    "X = df.drop('target', axis=1)\n",
    "y = df['target']"
   ]
  },
  {
   "cell_type": "code",
   "execution_count": 36,
   "metadata": {},
   "outputs": [],
   "source": [
    "pre = DataPreprocessor()\n",
    "X_proc = pre.fit_transform(X)"
   ]
  },
  {
   "cell_type": "code",
   "execution_count": 37,
   "metadata": {},
   "outputs": [],
   "source": [
    "\n",
    "X_proc_df = pd.DataFrame(X_proc)\n",
    "fe = FeatureEngineer(degree=2)\n",
    "X_fe = fe.fit_transform(X_proc_df)"
   ]
  },
  {
   "cell_type": "markdown",
   "metadata": {},
   "source": [
    "### Evaluation/Prediction"
   ]
  },
  {
   "cell_type": "code",
   "execution_count": 30,
   "metadata": {},
   "outputs": [],
   "source": [
    "model_spaces = {\n",
    "    'logistic_regression': {\n",
    "        'model': LogisticRegression,\n",
    "        'params': {\n",
    "            'C': [0.1, 1, 10],\n",
    "            'solver': ['liblinear', 'lbfgs']\n",
    "        }\n",
    "    },\n",
    "    'random_forest': {\n",
    "        'model': RandomForestClassifier,\n",
    "        'params': {\n",
    "            'n_estimators': [50, 100],\n",
    "            'max_depth': [None, 5, 10]\n",
    "        }\n",
    "    },\n",
    "    'svm': {\n",
    "        'model': SVC,\n",
    "        'params': {\n",
    "            'C': [0.1, 1, 10],\n",
    "            'kernel': ['linear', 'rbf'],\n",
    "            'gamma': ['scale', 'auto']\n",
    "        }\n",
    "    },\n",
    "    'mlp': {\n",
    "        'model': MLPClassifier,\n",
    "        'params': {\n",
    "            'hidden_layer_sizes': [(50,), (100,)],\n",
    "            'activation': ['relu', 'tanh'],\n",
    "            'solver': ['adam'],\n",
    "            'alpha': [0.0001, 0.001]\n",
    "        }\n",
    "    }\n",
    "}"
   ]
  },
  {
   "cell_type": "code",
   "execution_count": 31,
   "metadata": {},
   "outputs": [
    {
     "name": "stderr",
     "output_type": "stream",
     "text": [
      "[I 2025-07-25 13:30:22,292] A new study created in memory with name: no-name-37d706bd-2dad-4f0d-9947-b7e92d71ef39\n",
      "[I 2025-07-25 13:30:22,317] Trial 0 finished with value: 0.8549675863108699 and parameters: {'C': 1, 'solver': 'lbfgs'}. Best is trial 0 with value: 0.8549675863108699.\n",
      "[I 2025-07-25 13:30:22,328] Trial 1 finished with value: 0.8497663199155735 and parameters: {'C': 10, 'solver': 'lbfgs'}. Best is trial 0 with value: 0.8549675863108699.\n",
      "[I 2025-07-25 13:30:22,336] Trial 2 finished with value: 0.8549675863108699 and parameters: {'C': 1, 'solver': 'lbfgs'}. Best is trial 0 with value: 0.8549675863108699.\n",
      "[I 2025-07-25 13:30:22,343] Trial 3 finished with value: 0.8549675863108699 and parameters: {'C': 1, 'solver': 'liblinear'}. Best is trial 0 with value: 0.8549675863108699.\n",
      "[I 2025-07-25 13:30:22,348] Trial 4 finished with value: 0.8497663199155735 and parameters: {'C': 10, 'solver': 'liblinear'}. Best is trial 0 with value: 0.8549675863108699.\n",
      "[I 2025-07-25 13:30:22,353] Trial 5 finished with value: 0.8549675863108699 and parameters: {'C': 1, 'solver': 'liblinear'}. Best is trial 0 with value: 0.8549675863108699.\n",
      "[I 2025-07-25 13:30:22,357] Trial 6 finished with value: 0.8549675863108699 and parameters: {'C': 1, 'solver': 'liblinear'}. Best is trial 0 with value: 0.8549675863108699.\n",
      "[I 2025-07-25 13:30:22,361] Trial 7 finished with value: 0.8549675863108699 and parameters: {'C': 1, 'solver': 'liblinear'}. Best is trial 0 with value: 0.8549675863108699.\n",
      "[I 2025-07-25 13:30:22,367] Trial 8 finished with value: 0.8399668325041459 and parameters: {'C': 0.1, 'solver': 'lbfgs'}. Best is trial 0 with value: 0.8549675863108699.\n",
      "[I 2025-07-25 13:30:22,371] Trial 9 finished with value: 0.8549675863108699 and parameters: {'C': 1, 'solver': 'liblinear'}. Best is trial 0 with value: 0.8549675863108699.\n",
      "[I 2025-07-25 13:30:22,380] A new study created in memory with name: no-name-3dd60f0b-b55a-4ff9-94f3-50c89f41ff22\n"
     ]
    },
    {
     "name": "stdout",
     "output_type": "stream",
     "text": [
      "Optimizing logistic_regression...\n",
      "logistic_regression CV accuracy: 0.8550\n",
      "Optimizing random_forest...\n"
     ]
    },
    {
     "name": "stderr",
     "output_type": "stream",
     "text": [
      "[I 2025-07-25 13:30:22,560] Trial 0 finished with value: 0.7747625508819539 and parameters: {'n_estimators': 100, 'max_depth': 5}. Best is trial 0 with value: 0.7747625508819539.\n",
      "[I 2025-07-25 13:30:22,653] Trial 1 finished with value: 0.8099653248906981 and parameters: {'n_estimators': 50, 'max_depth': None}. Best is trial 1 with value: 0.8099653248906981.\n",
      "[I 2025-07-25 13:30:22,831] Trial 2 finished with value: 0.7898386853610734 and parameters: {'n_estimators': 100, 'max_depth': None}. Best is trial 1 with value: 0.8099653248906981.\n",
      "[I 2025-07-25 13:30:23,009] Trial 3 finished with value: 0.8096638022011157 and parameters: {'n_estimators': 100, 'max_depth': None}. Best is trial 1 with value: 0.8099653248906981.\n",
      "[I 2025-07-25 13:30:23,101] Trial 4 finished with value: 0.7898386853610734 and parameters: {'n_estimators': 50, 'max_depth': None}. Best is trial 1 with value: 0.8099653248906981.\n",
      "[I 2025-07-25 13:30:23,278] Trial 5 finished with value: 0.7899894467058646 and parameters: {'n_estimators': 100, 'max_depth': 10}. Best is trial 1 with value: 0.8099653248906981.\n",
      "[I 2025-07-25 13:30:23,368] Trial 6 finished with value: 0.7947384290667872 and parameters: {'n_estimators': 50, 'max_depth': None}. Best is trial 1 with value: 0.8099653248906981.\n",
      "[I 2025-07-25 13:30:23,543] Trial 7 finished with value: 0.7799638172772502 and parameters: {'n_estimators': 100, 'max_depth': 5}. Best is trial 1 with value: 0.8099653248906981.\n",
      "[I 2025-07-25 13:30:23,715] Trial 8 finished with value: 0.7799638172772502 and parameters: {'n_estimators': 100, 'max_depth': 5}. Best is trial 1 with value: 0.8099653248906981.\n",
      "[I 2025-07-25 13:30:23,895] Trial 9 finished with value: 0.7748379315543495 and parameters: {'n_estimators': 100, 'max_depth': None}. Best is trial 1 with value: 0.8099653248906981.\n",
      "[I 2025-07-25 13:30:24,020] A new study created in memory with name: no-name-ae425066-e467-450c-99d3-df4fbd073ee8\n",
      "[I 2025-07-25 13:30:24,026] Trial 0 finished with value: 0.8699683401175938 and parameters: {'C': 0.1, 'kernel': 'linear', 'gamma': 'auto'}. Best is trial 0 with value: 0.8699683401175938.\n",
      "[I 2025-07-25 13:30:24,032] Trial 1 finished with value: 0.5049751243781094 and parameters: {'C': 0.1, 'kernel': 'rbf', 'gamma': 'scale'}. Best is trial 0 with value: 0.8699683401175938.\n",
      "[I 2025-07-25 13:30:24,042] Trial 2 finished with value: 0.8297904417307403 and parameters: {'C': 10, 'kernel': 'linear', 'gamma': 'auto'}. Best is trial 0 with value: 0.8699683401175938.\n",
      "[I 2025-07-25 13:30:24,052] Trial 3 finished with value: 0.8297904417307403 and parameters: {'C': 10, 'kernel': 'linear', 'gamma': 'auto'}. Best is trial 0 with value: 0.8699683401175938.\n",
      "[I 2025-07-25 13:30:24,057] Trial 4 finished with value: 0.5049751243781094 and parameters: {'C': 0.1, 'kernel': 'rbf', 'gamma': 'scale'}. Best is trial 0 with value: 0.8699683401175938.\n",
      "[I 2025-07-25 13:30:24,063] Trial 5 finished with value: 0.8348409467812452 and parameters: {'C': 1, 'kernel': 'linear', 'gamma': 'scale'}. Best is trial 0 with value: 0.8699683401175938.\n",
      "[I 2025-07-25 13:30:24,069] Trial 6 finished with value: 0.7997135534448967 and parameters: {'C': 10, 'kernel': 'rbf', 'gamma': 'auto'}. Best is trial 0 with value: 0.8699683401175938.\n",
      "[I 2025-07-25 13:30:24,079] Trial 7 finished with value: 0.8297904417307403 and parameters: {'C': 10, 'kernel': 'linear', 'gamma': 'scale'}. Best is trial 0 with value: 0.8699683401175938.\n",
      "[I 2025-07-25 13:30:24,085] Trial 8 finished with value: 0.8348409467812452 and parameters: {'C': 1, 'kernel': 'linear', 'gamma': 'scale'}. Best is trial 0 with value: 0.8699683401175938.\n",
      "[I 2025-07-25 13:30:24,091] Trial 9 finished with value: 0.5049751243781094 and parameters: {'C': 0.1, 'kernel': 'rbf', 'gamma': 'auto'}. Best is trial 0 with value: 0.8699683401175938.\n",
      "[I 2025-07-25 13:30:24,096] A new study created in memory with name: no-name-3a5d4054-d0fe-4b24-9700-7176f106f449\n"
     ]
    },
    {
     "name": "stdout",
     "output_type": "stream",
     "text": [
      "random_forest CV accuracy: 0.7748\n",
      "Optimizing svm...\n",
      "svm CV accuracy: 0.8700\n",
      "Optimizing mlp...\n"
     ]
    },
    {
     "name": "stderr",
     "output_type": "stream",
     "text": [
      "/Users/siddh/Desktop/SID/projects/AutoMLite/venv/lib/python3.13/site-packages/optuna/distributions.py:518: UserWarning: Choices for a categorical distribution should be a tuple of None, bool, int, float and str for persistent storage but contains (50,) which is of type tuple.\n",
      "  warnings.warn(message)\n",
      "/Users/siddh/Desktop/SID/projects/AutoMLite/venv/lib/python3.13/site-packages/optuna/distributions.py:518: UserWarning: Choices for a categorical distribution should be a tuple of None, bool, int, float and str for persistent storage but contains (100,) which is of type tuple.\n",
      "  warnings.warn(message)\n",
      "/Users/siddh/Desktop/SID/projects/AutoMLite/venv/lib/python3.13/site-packages/sklearn/neural_network/_multilayer_perceptron.py:781: ConvergenceWarning: Stochastic Optimizer: Maximum iterations (200) reached and the optimization hasn't converged yet.\n",
      "  warnings.warn(\n",
      "/Users/siddh/Desktop/SID/projects/AutoMLite/venv/lib/python3.13/site-packages/sklearn/neural_network/_multilayer_perceptron.py:781: ConvergenceWarning: Stochastic Optimizer: Maximum iterations (200) reached and the optimization hasn't converged yet.\n",
      "  warnings.warn(\n",
      "/Users/siddh/Desktop/SID/projects/AutoMLite/venv/lib/python3.13/site-packages/sklearn/neural_network/_multilayer_perceptron.py:781: ConvergenceWarning: Stochastic Optimizer: Maximum iterations (200) reached and the optimization hasn't converged yet.\n",
      "  warnings.warn(\n",
      "[I 2025-07-25 13:30:24,320] Trial 0 finished with value: 0.8496909392431781 and parameters: {'hidden_layer_sizes': (100,), 'activation': 'tanh', 'solver': 'adam', 'alpha': 0.001}. Best is trial 0 with value: 0.8496909392431781.\n",
      "/Users/siddh/Desktop/SID/projects/AutoMLite/venv/lib/python3.13/site-packages/optuna/distributions.py:518: UserWarning: Choices for a categorical distribution should be a tuple of None, bool, int, float and str for persistent storage but contains (50,) which is of type tuple.\n",
      "  warnings.warn(message)\n",
      "/Users/siddh/Desktop/SID/projects/AutoMLite/venv/lib/python3.13/site-packages/optuna/distributions.py:518: UserWarning: Choices for a categorical distribution should be a tuple of None, bool, int, float and str for persistent storage but contains (100,) which is of type tuple.\n",
      "  warnings.warn(message)\n",
      "/Users/siddh/Desktop/SID/projects/AutoMLite/venv/lib/python3.13/site-packages/sklearn/neural_network/_multilayer_perceptron.py:781: ConvergenceWarning: Stochastic Optimizer: Maximum iterations (200) reached and the optimization hasn't converged yet.\n",
      "  warnings.warn(\n",
      "/Users/siddh/Desktop/SID/projects/AutoMLite/venv/lib/python3.13/site-packages/sklearn/neural_network/_multilayer_perceptron.py:781: ConvergenceWarning: Stochastic Optimizer: Maximum iterations (200) reached and the optimization hasn't converged yet.\n",
      "  warnings.warn(\n",
      "/Users/siddh/Desktop/SID/projects/AutoMLite/venv/lib/python3.13/site-packages/sklearn/neural_network/_multilayer_perceptron.py:781: ConvergenceWarning: Stochastic Optimizer: Maximum iterations (200) reached and the optimization hasn't converged yet.\n",
      "  warnings.warn(\n",
      "[I 2025-07-25 13:30:24,488] Trial 1 finished with value: 0.8447158148650686 and parameters: {'hidden_layer_sizes': (100,), 'activation': 'tanh', 'solver': 'adam', 'alpha': 0.0001}. Best is trial 0 with value: 0.8496909392431781.\n",
      "/Users/siddh/Desktop/SID/projects/AutoMLite/venv/lib/python3.13/site-packages/optuna/distributions.py:518: UserWarning: Choices for a categorical distribution should be a tuple of None, bool, int, float and str for persistent storage but contains (50,) which is of type tuple.\n",
      "  warnings.warn(message)\n",
      "/Users/siddh/Desktop/SID/projects/AutoMLite/venv/lib/python3.13/site-packages/optuna/distributions.py:518: UserWarning: Choices for a categorical distribution should be a tuple of None, bool, int, float and str for persistent storage but contains (100,) which is of type tuple.\n",
      "  warnings.warn(message)\n",
      "/Users/siddh/Desktop/SID/projects/AutoMLite/venv/lib/python3.13/site-packages/sklearn/neural_network/_multilayer_perceptron.py:781: ConvergenceWarning: Stochastic Optimizer: Maximum iterations (200) reached and the optimization hasn't converged yet.\n",
      "  warnings.warn(\n",
      "/Users/siddh/Desktop/SID/projects/AutoMLite/venv/lib/python3.13/site-packages/sklearn/neural_network/_multilayer_perceptron.py:781: ConvergenceWarning: Stochastic Optimizer: Maximum iterations (200) reached and the optimization hasn't converged yet.\n",
      "  warnings.warn(\n",
      "/Users/siddh/Desktop/SID/projects/AutoMLite/venv/lib/python3.13/site-packages/sklearn/neural_network/_multilayer_perceptron.py:781: ConvergenceWarning: Stochastic Optimizer: Maximum iterations (200) reached and the optimization hasn't converged yet.\n",
      "  warnings.warn(\n",
      "[I 2025-07-25 13:30:24,660] Trial 2 finished with value: 0.8498417005879694 and parameters: {'hidden_layer_sizes': (100,), 'activation': 'tanh', 'solver': 'adam', 'alpha': 0.001}. Best is trial 2 with value: 0.8498417005879694.\n",
      "/Users/siddh/Desktop/SID/projects/AutoMLite/venv/lib/python3.13/site-packages/optuna/distributions.py:518: UserWarning: Choices for a categorical distribution should be a tuple of None, bool, int, float and str for persistent storage but contains (50,) which is of type tuple.\n",
      "  warnings.warn(message)\n",
      "/Users/siddh/Desktop/SID/projects/AutoMLite/venv/lib/python3.13/site-packages/optuna/distributions.py:518: UserWarning: Choices for a categorical distribution should be a tuple of None, bool, int, float and str for persistent storage but contains (100,) which is of type tuple.\n",
      "  warnings.warn(message)\n",
      "/Users/siddh/Desktop/SID/projects/AutoMLite/venv/lib/python3.13/site-packages/sklearn/neural_network/_multilayer_perceptron.py:781: ConvergenceWarning: Stochastic Optimizer: Maximum iterations (200) reached and the optimization hasn't converged yet.\n",
      "  warnings.warn(\n",
      "/Users/siddh/Desktop/SID/projects/AutoMLite/venv/lib/python3.13/site-packages/sklearn/neural_network/_multilayer_perceptron.py:781: ConvergenceWarning: Stochastic Optimizer: Maximum iterations (200) reached and the optimization hasn't converged yet.\n",
      "  warnings.warn(\n",
      "/Users/siddh/Desktop/SID/projects/AutoMLite/venv/lib/python3.13/site-packages/sklearn/neural_network/_multilayer_perceptron.py:781: ConvergenceWarning: Stochastic Optimizer: Maximum iterations (200) reached and the optimization hasn't converged yet.\n",
      "  warnings.warn(\n",
      "[I 2025-07-25 13:30:24,840] Trial 3 finished with value: 0.8398914518317504 and parameters: {'hidden_layer_sizes': (100,), 'activation': 'relu', 'solver': 'adam', 'alpha': 0.0001}. Best is trial 2 with value: 0.8498417005879694.\n",
      "/Users/siddh/Desktop/SID/projects/AutoMLite/venv/lib/python3.13/site-packages/optuna/distributions.py:518: UserWarning: Choices for a categorical distribution should be a tuple of None, bool, int, float and str for persistent storage but contains (50,) which is of type tuple.\n",
      "  warnings.warn(message)\n",
      "/Users/siddh/Desktop/SID/projects/AutoMLite/venv/lib/python3.13/site-packages/optuna/distributions.py:518: UserWarning: Choices for a categorical distribution should be a tuple of None, bool, int, float and str for persistent storage but contains (100,) which is of type tuple.\n",
      "  warnings.warn(message)\n",
      "/Users/siddh/Desktop/SID/projects/AutoMLite/venv/lib/python3.13/site-packages/sklearn/neural_network/_multilayer_perceptron.py:781: ConvergenceWarning: Stochastic Optimizer: Maximum iterations (200) reached and the optimization hasn't converged yet.\n",
      "  warnings.warn(\n",
      "/Users/siddh/Desktop/SID/projects/AutoMLite/venv/lib/python3.13/site-packages/sklearn/neural_network/_multilayer_perceptron.py:781: ConvergenceWarning: Stochastic Optimizer: Maximum iterations (200) reached and the optimization hasn't converged yet.\n",
      "  warnings.warn(\n",
      "/Users/siddh/Desktop/SID/projects/AutoMLite/venv/lib/python3.13/site-packages/sklearn/neural_network/_multilayer_perceptron.py:781: ConvergenceWarning: Stochastic Optimizer: Maximum iterations (200) reached and the optimization hasn't converged yet.\n",
      "  warnings.warn(\n",
      "[I 2025-07-25 13:30:24,949] Trial 4 finished with value: 0.8400422131765416 and parameters: {'hidden_layer_sizes': (50,), 'activation': 'relu', 'solver': 'adam', 'alpha': 0.001}. Best is trial 2 with value: 0.8498417005879694.\n",
      "/Users/siddh/Desktop/SID/projects/AutoMLite/venv/lib/python3.13/site-packages/optuna/distributions.py:518: UserWarning: Choices for a categorical distribution should be a tuple of None, bool, int, float and str for persistent storage but contains (50,) which is of type tuple.\n",
      "  warnings.warn(message)\n",
      "/Users/siddh/Desktop/SID/projects/AutoMLite/venv/lib/python3.13/site-packages/optuna/distributions.py:518: UserWarning: Choices for a categorical distribution should be a tuple of None, bool, int, float and str for persistent storage but contains (100,) which is of type tuple.\n",
      "  warnings.warn(message)\n",
      "/Users/siddh/Desktop/SID/projects/AutoMLite/venv/lib/python3.13/site-packages/sklearn/neural_network/_multilayer_perceptron.py:781: ConvergenceWarning: Stochastic Optimizer: Maximum iterations (200) reached and the optimization hasn't converged yet.\n",
      "  warnings.warn(\n",
      "/Users/siddh/Desktop/SID/projects/AutoMLite/venv/lib/python3.13/site-packages/sklearn/neural_network/_multilayer_perceptron.py:781: ConvergenceWarning: Stochastic Optimizer: Maximum iterations (200) reached and the optimization hasn't converged yet.\n",
      "  warnings.warn(\n",
      "/Users/siddh/Desktop/SID/projects/AutoMLite/venv/lib/python3.13/site-packages/sklearn/neural_network/_multilayer_perceptron.py:781: ConvergenceWarning: Stochastic Optimizer: Maximum iterations (200) reached and the optimization hasn't converged yet.\n",
      "  warnings.warn(\n",
      "[I 2025-07-25 13:30:25,144] Trial 5 finished with value: 0.8398914518317504 and parameters: {'hidden_layer_sizes': (100,), 'activation': 'tanh', 'solver': 'adam', 'alpha': 0.0001}. Best is trial 2 with value: 0.8498417005879694.\n",
      "/Users/siddh/Desktop/SID/projects/AutoMLite/venv/lib/python3.13/site-packages/optuna/distributions.py:518: UserWarning: Choices for a categorical distribution should be a tuple of None, bool, int, float and str for persistent storage but contains (50,) which is of type tuple.\n",
      "  warnings.warn(message)\n",
      "/Users/siddh/Desktop/SID/projects/AutoMLite/venv/lib/python3.13/site-packages/optuna/distributions.py:518: UserWarning: Choices for a categorical distribution should be a tuple of None, bool, int, float and str for persistent storage but contains (100,) which is of type tuple.\n",
      "  warnings.warn(message)\n",
      "/Users/siddh/Desktop/SID/projects/AutoMLite/venv/lib/python3.13/site-packages/sklearn/neural_network/_multilayer_perceptron.py:781: ConvergenceWarning: Stochastic Optimizer: Maximum iterations (200) reached and the optimization hasn't converged yet.\n",
      "  warnings.warn(\n",
      "/Users/siddh/Desktop/SID/projects/AutoMLite/venv/lib/python3.13/site-packages/sklearn/neural_network/_multilayer_perceptron.py:781: ConvergenceWarning: Stochastic Optimizer: Maximum iterations (200) reached and the optimization hasn't converged yet.\n",
      "  warnings.warn(\n",
      "/Users/siddh/Desktop/SID/projects/AutoMLite/venv/lib/python3.13/site-packages/sklearn/neural_network/_multilayer_perceptron.py:781: ConvergenceWarning: Stochastic Optimizer: Maximum iterations (200) reached and the optimization hasn't converged yet.\n",
      "  warnings.warn(\n",
      "[I 2025-07-25 13:30:25,298] Trial 6 finished with value: 0.8448665762098598 and parameters: {'hidden_layer_sizes': (100,), 'activation': 'relu', 'solver': 'adam', 'alpha': 0.001}. Best is trial 2 with value: 0.8498417005879694.\n",
      "/Users/siddh/Desktop/SID/projects/AutoMLite/venv/lib/python3.13/site-packages/optuna/distributions.py:518: UserWarning: Choices for a categorical distribution should be a tuple of None, bool, int, float and str for persistent storage but contains (50,) which is of type tuple.\n",
      "  warnings.warn(message)\n",
      "/Users/siddh/Desktop/SID/projects/AutoMLite/venv/lib/python3.13/site-packages/optuna/distributions.py:518: UserWarning: Choices for a categorical distribution should be a tuple of None, bool, int, float and str for persistent storage but contains (100,) which is of type tuple.\n",
      "  warnings.warn(message)\n",
      "/Users/siddh/Desktop/SID/projects/AutoMLite/venv/lib/python3.13/site-packages/sklearn/neural_network/_multilayer_perceptron.py:781: ConvergenceWarning: Stochastic Optimizer: Maximum iterations (200) reached and the optimization hasn't converged yet.\n",
      "  warnings.warn(\n",
      "/Users/siddh/Desktop/SID/projects/AutoMLite/venv/lib/python3.13/site-packages/sklearn/neural_network/_multilayer_perceptron.py:781: ConvergenceWarning: Stochastic Optimizer: Maximum iterations (200) reached and the optimization hasn't converged yet.\n",
      "  warnings.warn(\n",
      "/Users/siddh/Desktop/SID/projects/AutoMLite/venv/lib/python3.13/site-packages/sklearn/neural_network/_multilayer_perceptron.py:781: ConvergenceWarning: Stochastic Optimizer: Maximum iterations (200) reached and the optimization hasn't converged yet.\n",
      "  warnings.warn(\n",
      "[I 2025-07-25 13:30:25,404] Trial 7 finished with value: 0.8298658224031358 and parameters: {'hidden_layer_sizes': (50,), 'activation': 'relu', 'solver': 'adam', 'alpha': 0.0001}. Best is trial 2 with value: 0.8498417005879694.\n",
      "/Users/siddh/Desktop/SID/projects/AutoMLite/venv/lib/python3.13/site-packages/optuna/distributions.py:518: UserWarning: Choices for a categorical distribution should be a tuple of None, bool, int, float and str for persistent storage but contains (50,) which is of type tuple.\n",
      "  warnings.warn(message)\n",
      "/Users/siddh/Desktop/SID/projects/AutoMLite/venv/lib/python3.13/site-packages/optuna/distributions.py:518: UserWarning: Choices for a categorical distribution should be a tuple of None, bool, int, float and str for persistent storage but contains (100,) which is of type tuple.\n",
      "  warnings.warn(message)\n",
      "/Users/siddh/Desktop/SID/projects/AutoMLite/venv/lib/python3.13/site-packages/sklearn/neural_network/_multilayer_perceptron.py:781: ConvergenceWarning: Stochastic Optimizer: Maximum iterations (200) reached and the optimization hasn't converged yet.\n",
      "  warnings.warn(\n",
      "/Users/siddh/Desktop/SID/projects/AutoMLite/venv/lib/python3.13/site-packages/sklearn/neural_network/_multilayer_perceptron.py:781: ConvergenceWarning: Stochastic Optimizer: Maximum iterations (200) reached and the optimization hasn't converged yet.\n",
      "  warnings.warn(\n",
      "/Users/siddh/Desktop/SID/projects/AutoMLite/venv/lib/python3.13/site-packages/sklearn/neural_network/_multilayer_perceptron.py:781: ConvergenceWarning: Stochastic Optimizer: Maximum iterations (200) reached and the optimization hasn't converged yet.\n",
      "  warnings.warn(\n",
      "[I 2025-07-25 13:30:25,564] Trial 8 finished with value: 0.8447911955374643 and parameters: {'hidden_layer_sizes': (100,), 'activation': 'tanh', 'solver': 'adam', 'alpha': 0.001}. Best is trial 2 with value: 0.8498417005879694.\n",
      "/Users/siddh/Desktop/SID/projects/AutoMLite/venv/lib/python3.13/site-packages/optuna/distributions.py:518: UserWarning: Choices for a categorical distribution should be a tuple of None, bool, int, float and str for persistent storage but contains (50,) which is of type tuple.\n",
      "  warnings.warn(message)\n",
      "/Users/siddh/Desktop/SID/projects/AutoMLite/venv/lib/python3.13/site-packages/optuna/distributions.py:518: UserWarning: Choices for a categorical distribution should be a tuple of None, bool, int, float and str for persistent storage but contains (100,) which is of type tuple.\n",
      "  warnings.warn(message)\n",
      "/Users/siddh/Desktop/SID/projects/AutoMLite/venv/lib/python3.13/site-packages/sklearn/neural_network/_multilayer_perceptron.py:781: ConvergenceWarning: Stochastic Optimizer: Maximum iterations (200) reached and the optimization hasn't converged yet.\n",
      "  warnings.warn(\n",
      "/Users/siddh/Desktop/SID/projects/AutoMLite/venv/lib/python3.13/site-packages/sklearn/neural_network/_multilayer_perceptron.py:781: ConvergenceWarning: Stochastic Optimizer: Maximum iterations (200) reached and the optimization hasn't converged yet.\n",
      "  warnings.warn(\n",
      "/Users/siddh/Desktop/SID/projects/AutoMLite/venv/lib/python3.13/site-packages/sklearn/neural_network/_multilayer_perceptron.py:781: ConvergenceWarning: Stochastic Optimizer: Maximum iterations (200) reached and the optimization hasn't converged yet.\n",
      "  warnings.warn(\n",
      "[I 2025-07-25 13:30:25,668] Trial 9 finished with value: 0.8197648123021257 and parameters: {'hidden_layer_sizes': (50,), 'activation': 'tanh', 'solver': 'adam', 'alpha': 0.0001}. Best is trial 2 with value: 0.8498417005879694.\n",
      "/Users/siddh/Desktop/SID/projects/AutoMLite/venv/lib/python3.13/site-packages/sklearn/neural_network/_multilayer_perceptron.py:781: ConvergenceWarning: Stochastic Optimizer: Maximum iterations (200) reached and the optimization hasn't converged yet.\n",
      "  warnings.warn(\n",
      "/Users/siddh/Desktop/SID/projects/AutoMLite/venv/lib/python3.13/site-packages/sklearn/neural_network/_multilayer_perceptron.py:781: ConvergenceWarning: Stochastic Optimizer: Maximum iterations (200) reached and the optimization hasn't converged yet.\n",
      "  warnings.warn(\n",
      "/Users/siddh/Desktop/SID/projects/AutoMLite/venv/lib/python3.13/site-packages/sklearn/neural_network/_multilayer_perceptron.py:781: ConvergenceWarning: Stochastic Optimizer: Maximum iterations (200) reached and the optimization hasn't converged yet.\n",
      "  warnings.warn(\n"
     ]
    },
    {
     "name": "stdout",
     "output_type": "stream",
     "text": [
      "mlp CV accuracy: 0.8449\n",
      "\n",
      "Best model: svm with CV accuracy: 0.8700\n",
      "Best hyperparameters: {'C': 0.1, 'kernel': 'linear', 'gamma': 'auto'}\n"
     ]
    },
    {
     "name": "stderr",
     "output_type": "stream",
     "text": [
      "/Users/siddh/Desktop/SID/projects/AutoMLite/venv/lib/python3.13/site-packages/sklearn/neural_network/_multilayer_perceptron.py:781: ConvergenceWarning: Stochastic Optimizer: Maximum iterations (200) reached and the optimization hasn't converged yet.\n",
      "  warnings.warn(\n"
     ]
    }
   ],
   "source": [
    "\n",
    "best_score = -float('inf')\n",
    "best_model_name = None\n",
    "best_model = None\n",
    "best_params = None\n",
    "\n",
    "for name, info in model_spaces.items():\n",
    "    print(f\"Optimizing {name}...\")\n",
    "    params = optimize_model(info['model'], info['params'], X_fe, y, scoring='accuracy', n_trials=10)\n",
    "    model = ModelWrapper(name, **params)\n",
    "    model.fit(X_fe, y)\n",
    "    score = cross_val_score(model.model, X_fe, y, scoring='accuracy', cv=3).mean()\n",
    "    print(f\"{name} CV accuracy: {score:.4f}\")\n",
    "    if score > best_score:\n",
    "        best_score = score\n",
    "        best_model_name = name\n",
    "        best_model = model\n",
    "        best_params = params\n",
    "\n",
    "print(f\"\\nBest model: {best_model_name} with CV accuracy: {best_score:.4f}\")\n",
    "print(\"Best hyperparameters:\", best_params)"
   ]
  },
  {
   "cell_type": "code",
   "execution_count": 32,
   "metadata": {},
   "outputs": [
    {
     "name": "stdout",
     "output_type": "stream",
     "text": [
      "              precision    recall  f1-score   support\n",
      "\n",
      "           0       0.88      0.92      0.90        99\n",
      "           1       0.92      0.87      0.89       101\n",
      "\n",
      "    accuracy                           0.90       200\n",
      "   macro avg       0.90      0.90      0.89       200\n",
      "weighted avg       0.90      0.90      0.89       200\n",
      "\n"
     ]
    },
    {
     "data": {
      "image/png": "[encoded data removed]",
      "text/plain": [
       "<Figure size 640x480 with 2 Axes>"
      ]
     },
     "metadata": {},
     "output_type": "display_data"
    },
    {
     "name": "stdout",
     "output_type": "stream",
     "text": [
      "SHAP explainability is limited for this model type.\n"
     ]
    }
   ],
   "source": [
    "y_pred = best_model.predict(X_fe)\n",
    "report_performance(y, y_pred)\n",
    "plot_confusion_matrix(y, y_pred, labels=[0, 1])\n",
    "if best_model_name in ['random_forest', 'xgboost', 'logistic_regression']:\n",
    "    explain_model(best_model.model, X_fe)\n",
    "else:\n",
    "    print(\"SHAP explainability is limited for this model type.\")"
   ]
  }
 ],
 "metadata": {
  "kernelspec": {
   "display_name": "venv",
   "language": "python",
   "name": "python3"
  },
  "language_info": {
   "codemirror_mode": {
    "name": "ipython",
    "version": 3
   },
   "file_extension": ".py",
   "mimetype": "text/x-python",
   "name": "python",
   "nbconvert_exporter": "python",
   "pygments_lexer": "ipython3",
   "version": "3.13.5"
  }
 },
 "nbformat": 4,
 "nbformat_minor": 2
}
